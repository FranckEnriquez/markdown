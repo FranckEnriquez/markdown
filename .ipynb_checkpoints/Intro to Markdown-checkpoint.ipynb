{
 "cells": [
  {
   "cell_type": "markdown",
   "metadata": {},
   "source": [
    "# Markdown Tutorial"
   ]
  },
  {
   "cell_type": "markdown",
   "metadata": {},
   "source": [
    "HTML is the building block of the web. It's what allows the web browser to render text, lists, tables, headers, images and more to the screen.\n",
    "\n",
    "Unfortunately, HTML can become verbose and tedious to work with. Markdown allows us to use an easy to read and write text-based syntax that gets automatically converted to HTML."
   ]
  },
  {
   "cell_type": "markdown",
   "metadata": {},
   "source": [
    "For example the HTML bit: \n",
    "    \n",
    "```HTML\n",
    "<b>This is in bold.</b>\n",
    "```\n",
    "\n",
    "will render:\n",
    "\n",
    "<b>This is in bold.</b>"
   ]
  },
  {
   "cell_type": "markdown",
   "metadata": {},
   "source": [
    "In Markdown equivalently: \n",
    "    \n",
    "    **This is in bold.**\n",
    " \n",
    "will automatically be converted to the HTML bit:\n",
    "\n",
    "```HTML\n",
    "<b>This is in bold.</b>\n",
    "```\n",
    "\n",
    "and unsuprisingly render:\n",
    "\n",
    "**This is in bold.**"
   ]
  },
  {
   "cell_type": "markdown",
   "metadata": {},
   "source": [
    "Because Jupyter Notebook supports Markdown cells, we will use Markdown to annotate and organize our code. We don't want to be writing a lot of HTML and hurt our fingers from all the typing. To write Markdown in the Jupyter Notebook environment, first ensure that the cell you are working in is a Markdown cell. The default cell is a code cell that takes in Python code. There is a drop down with 4 different cell types as options, so choose Markdown when writing Markdown."
   ]
  },
  {
   "cell_type": "markdown",
   "metadata": {},
   "source": [
    "> I recommend you double-click each Markdown cell to understand which Markdown syntax was used to render the output. All of this Notebook was written in Markdown!"
   ]
  },
  {
   "cell_type": "markdown",
   "metadata": {},
   "source": [
    "***"
   ]
  },
  {
   "cell_type": "markdown",
   "metadata": {},
   "source": [
    "Headers"
   ]
  },
  {
   "cell_type": "markdown",
   "metadata": {},
   "source": [
    "# Header 1 "
   ]
  },
  {
   "cell_type": "markdown",
   "metadata": {},
   "source": [
    "## Header 2 "
   ]
  },
  {
   "cell_type": "markdown",
   "metadata": {},
   "source": [
    "### Header 3 "
   ]
  },
  {
   "cell_type": "markdown",
   "metadata": {},
   "source": [
    "#### Header 4"
   ]
  },
  {
   "cell_type": "markdown",
   "metadata": {},
   "source": [
    "***"
   ]
  },
  {
   "cell_type": "markdown",
   "metadata": {},
   "source": [
    "Text Type"
   ]
  },
  {
   "cell_type": "markdown",
   "metadata": {},
   "source": [
    "This is written in plain text."
   ]
  },
  {
   "cell_type": "markdown",
   "metadata": {},
   "source": [
    "_This is written in italic text._"
   ]
  },
  {
   "cell_type": "markdown",
   "metadata": {},
   "source": [
    "**This is written in bold text.**"
   ]
  },
  {
   "cell_type": "markdown",
   "metadata": {},
   "source": [
    "~~This is written in strike-through text.~~"
   ]
  },
  {
   "cell_type": "markdown",
   "metadata": {},
   "source": [
    "> This is written in blockquote."
   ]
  },
  {
   "cell_type": "markdown",
   "metadata": {},
   "source": [
    "***"
   ]
  },
  {
   "cell_type": "markdown",
   "metadata": {},
   "source": [
    "Links/References"
   ]
  },
  {
   "cell_type": "markdown",
   "metadata": {},
   "source": [
    "You can provide a relative or absolute path to a file in your local workstation. Please advise that I am working in a Unix environment. You may need to modify the path syntax for your OS."
   ]
  },
  {
   "cell_type": "markdown",
   "metadata": {},
   "source": [
    "[Link To Directory/File in Local Workstation](Resources)"
   ]
  },
  {
   "cell_type": "markdown",
   "metadata": {},
   "source": [
    "[Link to Website](http://dhexonian.me)"
   ]
  },
  {
   "cell_type": "markdown",
   "metadata": {},
   "source": [
    "![Alt Text](Resources/palvin.jpg \"File Title\")"
   ]
  },
  {
   "cell_type": "markdown",
   "metadata": {},
   "source": [
    "![Alt Text](https://i.ytimg.com/vi/F0KuO4RPPL8/hqdefault.jpg \"File Title\")"
   ]
  },
  {
   "cell_type": "markdown",
   "metadata": {},
   "source": [
    "![Alt Text](http://38.media.tumblr.com/97d01e65fa16ffa7b00e8c7a6328f10f/tumblr_notfdxXaJN1r6rr1oo1_r1_250.gif \"File Title\")"
   ]
  },
  {
   "cell_type": "markdown",
   "metadata": {},
   "source": [
    "***"
   ]
  },
  {
   "cell_type": "markdown",
   "metadata": {},
   "source": [
    "Data Structure"
   ]
  },
  {
   "cell_type": "markdown",
   "metadata": {},
   "source": [
    "1. \n",
    "2. \n",
    "3. \n",
    "4. "
   ]
  },
  {
   "cell_type": "markdown",
   "metadata": {},
   "source": [
    "* 1\n",
    "* 2\n",
    "* 3\n",
    "* 4"
   ]
  },
  {
   "cell_type": "markdown",
   "metadata": {},
   "source": [
    "* A\n",
    "  * a\n",
    "  * b\n",
    "* B\n",
    "  * a\n",
    "  * b"
   ]
  },
  {
   "cell_type": "markdown",
   "metadata": {},
   "source": [
    "1.\n",
    "  * a.\n",
    "  * b.\n",
    "\n",
    "2.\n",
    "  * a.\n",
    "  * b."
   ]
  },
  {
   "cell_type": "markdown",
   "metadata": {},
   "source": [
    "- [x] ToDo 1.\n",
    "- [ ] ToDo 2. \n",
    "- [x] ToDo 3. \n",
    "- [ ] ToDo 4. "
   ]
  },
  {
   "cell_type": "markdown",
   "metadata": {},
   "source": [
    "[x] ToDo 1.\n",
    "\n",
    "[ ] ToDo 2. \n",
    "\n",
    "[x] ToDo 3. \n",
    "\n",
    "[ ] ToDo 4. "
   ]
  },
  {
   "cell_type": "markdown",
   "metadata": {},
   "source": [
    "| Col2 | Col2 |\n",
    "------------ | ------------- | -------------\n",
    "Row1 | (Row1,Col1) | (Row1,Col2)\n",
    "Row2 | (Row2,Col1) | (Row2,Col2)"
   ]
  },
  {
   "cell_type": "markdown",
   "metadata": {},
   "source": [
    "Table| Col2 | Col2 |\n",
    "------------ | ------------- | -------------\n",
    "Row1 | (Row1,Col1) | (Row1,Col2)\n",
    "Row2 | (Row2,Col1) | (Row2,Col2)"
   ]
  },
  {
   "cell_type": "markdown",
   "metadata": {},
   "source": [
    "***"
   ]
  },
  {
   "cell_type": "markdown",
   "metadata": {},
   "source": [
    "Code and Syntax Highlighting"
   ]
  },
  {
   "cell_type": "markdown",
   "metadata": {},
   "source": [
    "```markdown\n",
    "![Image Alt Text](/path/to/image)](path/to/linked/page)\n",
    "```\n",
    "\n",
    "\n",
    "```javascript\n",
    "var s = \"JavaScript syntax highligting!\";\n",
    "alert(s);\n",
    "```\n",
    " \n",
    " \n",
    "```python\n",
    "s = \"Python syntax highlighting\"\n",
    "print s\n",
    "```\n",
    "\n",
    "\n",
    "```ruby\n",
    "s = \"Ruby syntax highlighting\"\n",
    "puts s \n",
    "```\n",
    "\n",
    "All types of syntax highlighting. "
   ]
  },
  {
   "cell_type": "markdown",
   "metadata": {},
   "source": [
    "***"
   ]
  },
  {
   "cell_type": "markdown",
   "metadata": {},
   "source": [
    "Horizontal Rule Line\n",
    "\n",
    "```markdown\n",
    "***\n",
    "```"
   ]
  },
  {
   "cell_type": "markdown",
   "metadata": {},
   "source": [
    "***"
   ]
  },
  {
   "cell_type": "markdown",
   "metadata": {},
   "source": [
    "# We're Done"
   ]
  },
  {
   "cell_type": "markdown",
   "metadata": {},
   "source": [
    "You get updates on tutorials I am writing when you follow me on Twitter [@dhexonian](https://twitter.com/dhexonian)."
   ]
  }
 ],
 "metadata": {
  "kernelspec": {
   "display_name": "Python 2",
   "language": "python",
   "name": "python2"
  },
  "language_info": {
   "codemirror_mode": {
    "name": "ipython",
    "version": 2
   },
   "file_extension": ".py",
   "mimetype": "text/x-python",
   "name": "python",
   "nbconvert_exporter": "python",
   "pygments_lexer": "ipython2",
   "version": "2.7.10"
  }
 },
 "nbformat": 4,
 "nbformat_minor": 2
}
